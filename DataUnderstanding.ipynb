{
 "cells": [
  {
   "cell_type": "code",
   "execution_count": 15,
   "metadata": {},
   "outputs": [],
   "source": [
    "import pandas as pd\n",
    "import numpy as np\n",
    "import matplotlib.pyplot as plt"
   ]
  },
  {
   "cell_type": "code",
   "execution_count": 17,
   "metadata": {},
   "outputs": [],
   "source": [
    "#Data Understanding\n",
    "trainData = pd.read_csv('/Users/christang/Desktop/WFU/2025Spring/CIBMTR/train.csv')"
   ]
  },
  {
   "cell_type": "code",
   "execution_count": 19,
   "metadata": {},
   "outputs": [
    {
     "name": "stdout",
     "output_type": "stream",
     "text": [
      "<class 'pandas.core.frame.DataFrame'>\n",
      "RangeIndex: 28800 entries, 0 to 28799\n",
      "Data columns (total 60 columns):\n",
      " #   Column                  Non-Null Count  Dtype  \n",
      "---  ------                  --------------  -----  \n",
      " 0   ID                      28800 non-null  int64  \n",
      " 1   dri_score               28646 non-null  object \n",
      " 2   psych_disturb           26738 non-null  object \n",
      " 3   cyto_score              20732 non-null  object \n",
      " 4   diabetes                26681 non-null  object \n",
      " 5   hla_match_c_high        24180 non-null  float64\n",
      " 6   hla_high_res_8          22971 non-null  float64\n",
      " 7   tbi_status              28800 non-null  object \n",
      " 8   arrhythmia              26598 non-null  object \n",
      " 9   hla_low_res_6           25530 non-null  float64\n",
      " 10  graft_type              28800 non-null  object \n",
      " 11  vent_hist               28541 non-null  object \n",
      " 12  renal_issue             26885 non-null  object \n",
      " 13  pulm_severe             26665 non-null  object \n",
      " 14  prim_disease_hct        28800 non-null  object \n",
      " 15  hla_high_res_6          23516 non-null  float64\n",
      " 16  cmv_status              28166 non-null  object \n",
      " 17  hla_high_res_10         21637 non-null  float64\n",
      " 18  hla_match_dqb1_high     23601 non-null  float64\n",
      " 19  tce_imm_match           17667 non-null  object \n",
      " 20  hla_nmdp_6              24603 non-null  float64\n",
      " 21  hla_match_c_low         26000 non-null  float64\n",
      " 22  rituximab               26652 non-null  object \n",
      " 23  hla_match_drb1_low      26157 non-null  float64\n",
      " 24  hla_match_dqb1_low      24606 non-null  float64\n",
      " 25  prod_type               28800 non-null  object \n",
      " 26  cyto_score_detail       16877 non-null  object \n",
      " 27  conditioning_intensity  24011 non-null  object \n",
      " 28  ethnicity               28213 non-null  object \n",
      " 29  year_hct                28800 non-null  int64  \n",
      " 30  obesity                 27040 non-null  object \n",
      " 31  mrd_hct                 12203 non-null  object \n",
      " 32  in_vivo_tcd             28575 non-null  object \n",
      " 33  tce_match               9804 non-null   object \n",
      " 34  hla_match_a_high        24499 non-null  float64\n",
      " 35  hepatic_severe          26929 non-null  object \n",
      " 36  donor_age               26992 non-null  float64\n",
      " 37  prior_tumor             27122 non-null  object \n",
      " 38  hla_match_b_low         26235 non-null  float64\n",
      " 39  peptic_ulcer            26381 non-null  object \n",
      " 40  age_at_hct              28800 non-null  float64\n",
      " 41  hla_match_a_low         26410 non-null  float64\n",
      " 42  gvhd_proph              28575 non-null  object \n",
      " 43  rheum_issue             26617 non-null  object \n",
      " 44  sex_match               28539 non-null  object \n",
      " 45  hla_match_b_high        24712 non-null  float64\n",
      " 46  race_group              28800 non-null  object \n",
      " 47  comorbidity_score       28323 non-null  float64\n",
      " 48  karnofsky_score         27930 non-null  float64\n",
      " 49  hepatic_mild            26883 non-null  object \n",
      " 50  tce_div_match           17404 non-null  object \n",
      " 51  donor_related           28642 non-null  object \n",
      " 52  melphalan_dose          27395 non-null  object \n",
      " 53  hla_low_res_8           25147 non-null  float64\n",
      " 54  cardiac                 26258 non-null  object \n",
      " 55  hla_match_drb1_high     25448 non-null  float64\n",
      " 56  pulm_moderate           26753 non-null  object \n",
      " 57  hla_low_res_10          23736 non-null  float64\n",
      " 58  efs                     28800 non-null  float64\n",
      " 59  efs_time                28800 non-null  float64\n",
      "dtypes: float64(23), int64(2), object(35)\n",
      "memory usage: 13.2+ MB\n"
     ]
    }
   ],
   "source": [
    "trainData.head()\n",
    "trainData.info()"
   ]
  }
 ],
 "metadata": {
  "kernelspec": {
   "display_name": "Python 3 (ipykernel)",
   "language": "python",
   "name": "python3"
  },
  "language_info": {
   "codemirror_mode": {
    "name": "ipython",
    "version": 3
   },
   "file_extension": ".py",
   "mimetype": "text/x-python",
   "name": "python",
   "nbconvert_exporter": "python",
   "pygments_lexer": "ipython3",
   "version": "3.9.13"
  }
 },
 "nbformat": 4,
 "nbformat_minor": 2
}
