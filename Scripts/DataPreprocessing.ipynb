{
 "cells": [
  {
   "cell_type": "code",
   "execution_count": null,
   "metadata": {},
   "outputs": [],
   "source": [
    "!pip install ../input/pip-install-lifelines/autograd-1.7.0-py3-none-any.whl\n",
    "!pip install ../input/pip-install-lifelines/autograd-gamma-0.5.0.tar.gz\n",
    "!pip install ../input/pip-install-lifelines/interface_meta-1.3.0-py3-none-any.whl\n",
    "!pip install ../input/pip-install-lifelines/formulaic-1.0.2-py3-none-any.whl\n",
    "!pip install ../input/pip-install-lifelines/lifelines-0.30.0-py3-none-any.whl\n"
   ]
  },
  {
   "cell_type": "code",
   "execution_count": null,
   "metadata": {},
   "outputs": [],
   "source": [
    "pip install git+https://github.com/ResidentMario/missingno.git"
   ]
  },
  {
   "cell_type": "code",
   "execution_count": 4,
   "metadata": {},
   "outputs": [
    {
     "name": "stderr",
     "output_type": "stream",
     "text": [
      "/Users/christang/opt/anaconda3/lib/python3.9/site-packages/pandas/core/computation/expressions.py:21: UserWarning: Pandas requires version '2.8.4' or newer of 'numexpr' (version '2.8.3' currently installed).\n",
      "  from pandas.core.computation.check import NUMEXPR_INSTALLED\n",
      "/Users/christang/opt/anaconda3/lib/python3.9/site-packages/pandas/core/arrays/masked.py:60: UserWarning: Pandas requires version '1.3.6' or newer of 'bottleneck' (version '1.3.5' currently installed).\n",
      "  from pandas.core import (\n"
     ]
    }
   ],
   "source": [
    "import pandas as pd\n",
    "import numpy as np\n",
    "import os"
   ]
  },
  {
   "cell_type": "code",
   "execution_count": 5,
   "metadata": {},
   "outputs": [],
   "source": [
    "import matplotlib.pyplot as plt\n",
    "import seaborn as sns\n",
    "import missingno as msno"
   ]
  },
  {
   "cell_type": "code",
   "execution_count": 6,
   "metadata": {},
   "outputs": [],
   "source": [
    "from sklearn.impute import KNNImputer\n",
    "from sklearn.experimental import enable_iterative_imputer \n",
    "from sklearn.impute import IterativeImputer \n",
    "from sklearn.model_selection import train_test_split"
   ]
  },
  {
   "cell_type": "code",
   "execution_count": 7,
   "metadata": {},
   "outputs": [],
   "source": [
    "import myutils.preprocessing as pp \n",
    "import myutils.visualization as vz\n",
    "from metric import score as sc\n",
    "%load_ext autoreload\n",
    "%autoreload 2"
   ]
  },
  {
   "cell_type": "code",
   "execution_count": 8,
   "metadata": {},
   "outputs": [],
   "source": [
    "from lifelines import KaplanMeierFitter"
   ]
  },
  {
   "cell_type": "code",
   "execution_count": 2,
   "metadata": {},
   "outputs": [],
   "source": [
    "def read_data(data_dir,fileNames):\n",
    "    path = os.path.join(data_dir,fileNames)\n",
    "    df = pd.read_csv(path)\n",
    "    return df"
   ]
  },
  {
   "cell_type": "code",
   "execution_count": 9,
   "metadata": {},
   "outputs": [],
   "source": [
    "data_dir = '../input/data'\n",
    "output_dir = '../output'\n",
    "\n",
    "fName1 = 'train.csv'\n",
    "fName2 = 'test.csv'\n",
    "fName3 = 'data_dictionary.csv'\n",
    "\n",
    "trainData = read_data(data_dir,fName1)\n",
    "testData = read_data(data_dir,fName2)\n",
    "dataDict = read_data(data_dir,fName3)\n",
    "\n",
    "random_seed = 202501"
   ]
  },
  {
   "cell_type": "markdown",
   "metadata": {},
   "source": [
    "# Data Understanding and Inspection"
   ]
  },
  {
   "cell_type": "code",
   "execution_count": null,
   "metadata": {},
   "outputs": [],
   "source": [
    "print(trainData.head(5))"
   ]
  },
  {
   "cell_type": "code",
   "execution_count": null,
   "metadata": {},
   "outputs": [],
   "source": [
    "print(\"Size of the df:\",trainData.shape, \"\\nColumn Names:\\n\", trainData.columns)"
   ]
  },
  {
   "cell_type": "code",
   "execution_count": null,
   "metadata": {},
   "outputs": [],
   "source": [
    "print(\"Size of the df:\",testData.shape, \"\\nColumn Names:\\n\", testData.columns)"
   ]
  },
  {
   "cell_type": "code",
   "execution_count": null,
   "metadata": {},
   "outputs": [],
   "source": [
    "print(trainData.info())"
   ]
  },
  {
   "cell_type": "code",
   "execution_count": null,
   "metadata": {},
   "outputs": [],
   "source": [
    "vz.scatter_plot(trainData,'efs_time','efs')"
   ]
  },
  {
   "cell_type": "code",
   "execution_count": null,
   "metadata": {},
   "outputs": [],
   "source": [
    "#inspecting missing values for the training set\n",
    "print(trainData.isnull().sum().sort_values(ascending=False))"
   ]
  },
  {
   "cell_type": "code",
   "execution_count": null,
   "metadata": {},
   "outputs": [],
   "source": [
    "#inspecting missing values for the test set\n",
    "print(testData.isnull().sum().sort_values(ascending=False))"
   ]
  },
  {
   "cell_type": "code",
   "execution_count": null,
   "metadata": {},
   "outputs": [],
   "source": [
    "#plot the missing values heatmap\n",
    "vz.plot_missing_values(trainData)\n",
    "vz.plot_missing_values(testData)"
   ]
  },
  {
   "cell_type": "markdown",
   "metadata": {},
   "source": [
    "Due to the large number of missing values and unclearness of the patterns in the values that are missing, regular imputation methods will not be considered to use as the training accuracy could be severly impaired."
   ]
  },
  {
   "cell_type": "code",
   "execution_count": null,
   "metadata": {},
   "outputs": [],
   "source": [
    "#Understanding the missing values\n",
    "\n",
    "\n",
    "#missing_values = pp.missing_val_df(trainData)\n",
    "#missing_values = missing_values.merge(dataDict[['variable', 'description']], left_on='variables', right_on='variable', how='left')\n",
    "#missing_values.drop(columns=['variable'], inplace=True)\n",
    "#missing_values.rename(columns={'description': 'Variable Description'}, inplace=True)\n",
    "\n",
    "#missing_values"
   ]
  },
  {
   "cell_type": "code",
   "execution_count": null,
   "metadata": {},
   "outputs": [],
   "source": [
    "# Detect duplicate rows\n",
    "#duplicate_rows = trainData[trainData.duplicated()]\n",
    "# Show duplicate rows\n",
    "#print(duplicate_rows)"
   ]
  },
  {
   "cell_type": "markdown",
   "metadata": {},
   "source": [
    "No duplicated observations is discovered in the dataset"
   ]
  },
  {
   "cell_type": "markdown",
   "metadata": {},
   "source": [
    "# Data Preprocessing"
   ]
  },
  {
   "cell_type": "code",
   "execution_count": 23,
   "metadata": {},
   "outputs": [],
   "source": [
    "from sklearn.compose import ColumnTransformer\n",
    "from sklearn.pipeline import Pipeline\n",
    "from sklearn.impute import KNNImputer, SimpleImputer\n",
    "from sklearn.preprocessing import StandardScaler, LabelEncoder, OrdinalEncoder,OneHotEncoder"
   ]
  },
  {
   "cell_type": "code",
   "execution_count": 31,
   "metadata": {},
   "outputs": [],
   "source": [
    "def prepare_data(trainData, testData, target_cols, id_col='ID'):\n",
    "    feature_cols = [col for col in trainData.columns if col not in target_cols + [id_col]]\n",
    "\n",
    "    X_train = trainData[feature_cols]\n",
    "    y_train = trainData[target_cols]\n",
    "    X_test = testData[feature_cols]\n",
    "    return X_train, y_train, X_test\n",
    "\n",
    "\n",
    "target_cols = ['efs', 'efs_time']\n",
    "\n",
    "X_train, y_train, X_test = prepare_data(trainData, testData,target_cols)\n",
    "\n",
    "\n"
   ]
  },
  {
   "cell_type": "code",
   "execution_count": 35,
   "metadata": {},
   "outputs": [],
   "source": [
    "def transform_suv_prob(df, time = 'efs_time', event = 'efs'):\n",
    "    kmf = KaplanMeierFitter()\n",
    "    kmf.fit(df[time], event_observed=df[event])\n",
    "    survivals_prob = kmf.survival_function_at_times(df[time]).values\n",
    "    return survivals_prob\n",
    "\n",
    "def preprocess_data(X_train, y_train, X_test, num_cols, cat_cols, event_col='efs', time_col='efs_time'):\n",
    "    \n",
    "    X_train_copy = X_train.copy()\n",
    "    y_train_copy = y_train.copy()\n",
    "\n",
    "    num_pp = Pipeline([\n",
    "        ('imputer', SimpleImputer(strategy='median')),\n",
    "        # ('scaler', StandardScaler()),\n",
    "    ])\n",
    "\n",
    "    cat_pp = Pipeline([\n",
    "        ('imputer', SimpleImputer(strategy='constant', fill_value='UNKNOWN'))\n",
    "    ])\n",
    "\n",
    "    preprocessor = ColumnTransformer(\n",
    "        transformers=[\n",
    "            ('num', num_pp, num_cols),\n",
    "            ('cat', cat_pp, cat_cols)\n",
    "        ],\n",
    "        remainder='passthrough'  # Keep any other columns if necessary\n",
    "    )\n",
    "\n",
    "    X_train_processed = preprocessor.fit_transform(X_train_copy)\n",
    "    X_test_processed = preprocessor.transform(X_test)\n",
    "\n",
    "    processed_cols = num_cols + cat_cols\n",
    "    X_train_processed = pd.DataFrame(X_train_processed, columns=processed_cols)\n",
    "    X_test_processed = pd.DataFrame(X_test_processed, columns=processed_cols)\n",
    "\n",
    "\n",
    "\n",
    "    train = pd.concat([X_train_processed, y_train_copy], axis=1)\n",
    "    train['y'] = transform_suv_prob(train, time_col, event_col)\n",
    "\n",
    "    agg = pd.concat([train, X_test_processed], axis=0, ignore_index=True)\n",
    "\n",
    "    train = agg.iloc[:len(train)].copy()\n",
    "    test = agg.iloc[len(train):].reset_index(drop=True).copy()\n",
    "\n",
    "    for col in num_cols:\n",
    "        train[col] = train[col].astype('float32')\n",
    "        test[col] = test[col].astype('float32')\n",
    "    for col in cat_cols:\n",
    "        train[col] = train[col].astype('category')\n",
    "        test[col] = X_test_processed[col].astype('category')\n",
    "\n",
    "    return train, test, preprocessor\n",
    "\n",
    "    \n"
   ]
  },
  {
   "cell_type": "code",
   "execution_count": 36,
   "metadata": {},
   "outputs": [],
   "source": [
    "# Define columns\n",
    "\n",
    "\n",
    "num_cols = pp.numeric_df(X_train).columns.tolist()  # Numerical columns\n",
    "cat_cols = pp.get_cat_cols(X_train)                # Categorical columns\n",
    "\n",
    "train,test,preprocessor = preprocess_data(\n",
    "    X_train,\n",
    "    y_train,\n",
    "    X_test,\n",
    "    num_cols,\n",
    "    cat_cols\n",
    ")\n",
    "\n",
    "        \n"
   ]
  },
  {
   "cell_type": "code",
   "execution_count": 37,
   "metadata": {},
   "outputs": [
    {
     "name": "stdout",
     "output_type": "stream",
     "text": [
      "hla_match_c_high           float32\n",
      "hla_high_res_8             float32\n",
      "hla_low_res_6              float32\n",
      "hla_high_res_6             float32\n",
      "hla_high_res_10            float32\n",
      "hla_match_dqb1_high        float32\n",
      "hla_nmdp_6                 float32\n",
      "hla_match_c_low            float32\n",
      "hla_match_drb1_low         float32\n",
      "hla_match_dqb1_low         float32\n",
      "year_hct                   float32\n",
      "hla_match_a_high           float32\n",
      "donor_age                  float32\n",
      "hla_match_b_low            float32\n",
      "age_at_hct                 float32\n",
      "hla_match_a_low            float32\n",
      "hla_match_b_high           float32\n",
      "comorbidity_score          float32\n",
      "karnofsky_score            float32\n",
      "hla_low_res_8              float32\n",
      "hla_match_drb1_high        float32\n",
      "hla_low_res_10             float32\n",
      "dri_score                 category\n",
      "psych_disturb             category\n",
      "cyto_score                category\n",
      "diabetes                  category\n",
      "tbi_status                category\n",
      "arrhythmia                category\n",
      "graft_type                category\n",
      "vent_hist                 category\n",
      "renal_issue               category\n",
      "pulm_severe               category\n",
      "prim_disease_hct          category\n",
      "cmv_status                category\n",
      "tce_imm_match             category\n",
      "rituximab                 category\n",
      "prod_type                 category\n",
      "cyto_score_detail         category\n",
      "conditioning_intensity    category\n",
      "ethnicity                 category\n",
      "obesity                   category\n",
      "mrd_hct                   category\n",
      "in_vivo_tcd               category\n",
      "tce_match                 category\n",
      "hepatic_severe            category\n",
      "prior_tumor               category\n",
      "peptic_ulcer              category\n",
      "gvhd_proph                category\n",
      "rheum_issue               category\n",
      "sex_match                 category\n",
      "race_group                category\n",
      "hepatic_mild              category\n",
      "tce_div_match             category\n",
      "donor_related             category\n",
      "melphalan_dose            category\n",
      "cardiac                   category\n",
      "pulm_moderate             category\n",
      "efs                        float64\n",
      "efs_time                   float64\n",
      "y                          float64\n",
      "dtype: object\n",
      "hla_match_c_high           float32\n",
      "hla_high_res_8             float32\n",
      "hla_low_res_6              float32\n",
      "hla_high_res_6             float32\n",
      "hla_high_res_10            float32\n",
      "hla_match_dqb1_high        float32\n",
      "hla_nmdp_6                 float32\n",
      "hla_match_c_low            float32\n",
      "hla_match_drb1_low         float32\n",
      "hla_match_dqb1_low         float32\n",
      "year_hct                   float32\n",
      "hla_match_a_high           float32\n",
      "donor_age                  float32\n",
      "hla_match_b_low            float32\n",
      "age_at_hct                 float32\n",
      "hla_match_a_low            float32\n",
      "hla_match_b_high           float32\n",
      "comorbidity_score          float32\n",
      "karnofsky_score            float32\n",
      "hla_low_res_8              float32\n",
      "hla_match_drb1_high        float32\n",
      "hla_low_res_10             float32\n",
      "dri_score                 category\n",
      "psych_disturb             category\n",
      "cyto_score                category\n",
      "diabetes                  category\n",
      "tbi_status                category\n",
      "arrhythmia                category\n",
      "graft_type                category\n",
      "vent_hist                 category\n",
      "renal_issue               category\n",
      "pulm_severe               category\n",
      "prim_disease_hct          category\n",
      "cmv_status                category\n",
      "tce_imm_match             category\n",
      "rituximab                 category\n",
      "prod_type                 category\n",
      "cyto_score_detail         category\n",
      "conditioning_intensity    category\n",
      "ethnicity                 category\n",
      "obesity                   category\n",
      "mrd_hct                   category\n",
      "in_vivo_tcd               category\n",
      "tce_match                 category\n",
      "hepatic_severe            category\n",
      "prior_tumor               category\n",
      "peptic_ulcer              category\n",
      "gvhd_proph                category\n",
      "rheum_issue               category\n",
      "sex_match                 category\n",
      "race_group                category\n",
      "hepatic_mild              category\n",
      "tce_div_match             category\n",
      "donor_related             category\n",
      "melphalan_dose            category\n",
      "cardiac                   category\n",
      "pulm_moderate             category\n",
      "efs                        float64\n",
      "efs_time                   float64\n",
      "y                          float64\n",
      "dtype: object\n"
     ]
    }
   ],
   "source": [
    "print(train.dtypes)\n",
    "print(test.dtypes)"
   ]
  },
  {
   "cell_type": "code",
   "execution_count": null,
   "metadata": {},
   "outputs": [],
   "source": [
    "#We will perform data preprocessing on the numerical variables and categorical variables separately.\n",
    "\n",
    "X_train_num = pp.numeric_df(X_train)\n",
    "X_test_num = pp.numeric_df(X_test)\n",
    "\n",
    "cat_colsTrain = pp.get_cat_cols(X_train)\n",
    "X_train_cat = X_train[cat_colsTrain]\n",
    "\n",
    "cat_colsTest = pp.get_cat_cols(X_test)\n",
    "X_test_cat = X_test[cat_colsTest]\n",
    "\n"
   ]
  },
  {
   "cell_type": "code",
   "execution_count": null,
   "metadata": {},
   "outputs": [],
   "source": [
    "#Plot the correlation heatmap between numerical variables to check for multicollinearity, \n",
    "#before we decide on which imputation method to use.\n",
    "vz.cor_heatmap(X_train_num)"
   ]
  },
  {
   "cell_type": "markdown",
   "metadata": {},
   "source": [
    "As we can see, the variables that starts with \"hla\" seems to be highly correlated with on another, while the other variables do not exhibited clear correlation.\n",
    "Therefore, we decided to employ KNN (similarity based) imputer on all the variables that start with \"hla\" and Iterative imputer for the rest of the variables."
   ]
  },
  {
   "cell_type": "code",
   "execution_count": 39,
   "metadata": {},
   "outputs": [
    {
     "ename": "NameError",
     "evalue": "name 'X_train_cat' is not defined",
     "output_type": "error",
     "traceback": [
      "\u001b[0;31m---------------------------------------------------------------------------\u001b[0m",
      "\u001b[0;31mNameError\u001b[0m                                 Traceback (most recent call last)",
      "\u001b[0;32m/var/folders/88/lhd3dzzd50l3lv7f_687j5jc0000gn/T/ipykernel_29870/1755729709.py\u001b[0m in \u001b[0;36m<module>\u001b[0;34m\u001b[0m\n\u001b[1;32m      1\u001b[0m \u001b[0;32mimport\u001b[0m \u001b[0mmath\u001b[0m\u001b[0;34m\u001b[0m\u001b[0;34m\u001b[0m\u001b[0m\n\u001b[1;32m      2\u001b[0m \u001b[0mn_cols\u001b[0m \u001b[0;34m=\u001b[0m \u001b[0;36m2\u001b[0m\u001b[0;34m\u001b[0m\u001b[0;34m\u001b[0m\u001b[0m\n\u001b[0;32m----> 3\u001b[0;31m \u001b[0mn_plots\u001b[0m \u001b[0;34m=\u001b[0m \u001b[0mlen\u001b[0m\u001b[0;34m(\u001b[0m\u001b[0mX_train_cat\u001b[0m\u001b[0;34m.\u001b[0m\u001b[0mcolumns\u001b[0m\u001b[0;34m)\u001b[0m\u001b[0;34m\u001b[0m\u001b[0;34m\u001b[0m\u001b[0m\n\u001b[0m\u001b[1;32m      4\u001b[0m \u001b[0mn_rows\u001b[0m \u001b[0;34m=\u001b[0m \u001b[0mmath\u001b[0m\u001b[0;34m.\u001b[0m\u001b[0mceil\u001b[0m\u001b[0;34m(\u001b[0m\u001b[0mn_plots\u001b[0m \u001b[0;34m/\u001b[0m \u001b[0mn_cols\u001b[0m\u001b[0;34m)\u001b[0m\u001b[0;34m\u001b[0m\u001b[0;34m\u001b[0m\u001b[0m\n\u001b[1;32m      5\u001b[0m \u001b[0mfig\u001b[0m\u001b[0;34m,\u001b[0m \u001b[0maxes\u001b[0m \u001b[0;34m=\u001b[0m \u001b[0mplt\u001b[0m\u001b[0;34m.\u001b[0m\u001b[0msubplots\u001b[0m\u001b[0;34m(\u001b[0m\u001b[0mn_rows\u001b[0m\u001b[0;34m,\u001b[0m \u001b[0mn_cols\u001b[0m\u001b[0;34m,\u001b[0m \u001b[0mfigsize\u001b[0m\u001b[0;34m=\u001b[0m\u001b[0;34m(\u001b[0m\u001b[0;36m15\u001b[0m\u001b[0;34m,\u001b[0m \u001b[0;36m6\u001b[0m \u001b[0;34m*\u001b[0m \u001b[0mn_rows\u001b[0m\u001b[0;34m)\u001b[0m\u001b[0;34m)\u001b[0m\u001b[0;34m\u001b[0m\u001b[0;34m\u001b[0m\u001b[0m\n",
      "\u001b[0;31mNameError\u001b[0m: name 'X_train_cat' is not defined"
     ]
    }
   ],
   "source": [
    "import math\n",
    "n_cols = 2\n",
    "n_plots = len(X_train_cat.columns)\n",
    "n_rows = math.ceil(n_plots / n_cols)\n",
    "fig, axes = plt.subplots(n_rows, n_cols, figsize=(15, 6 * n_rows))\n",
    "axes = axes.flatten()\n",
    "\n",
    "for i, cols in enumerate(X_train_cat.columns):\n",
    "    sns.countplot(data=X_train_cat, x=cols, ax=axes[i])\n",
    "    axes[i].set_title(cols)\n",
    "    axes[i].tick_params(axis='x', rotation=90)\n",
    "\n",
    "for j in range(i + 1, len(axes)):\n",
    "    fig.delaxes(axes[j])\n",
    "\n",
    "plt.tight_layout()\n",
    "plt.show()\n"
   ]
  },
  {
   "cell_type": "code",
   "execution_count": null,
   "metadata": {},
   "outputs": [],
   "source": [
    "import math\n",
    "n_cols = 2\n",
    "n_plots = len(X_test_cat.columns)\n",
    "n_rows = math.ceil(n_plots / n_cols)\n",
    "fig, axes = plt.subplots(n_rows, n_cols, figsize=(15, 6 * n_rows))\n",
    "axes = axes.flatten()\n",
    "\n",
    "for i, cols in enumerate(X_test_cat.columns):\n",
    "    sns.countplot(data=X_test_cat, x=cols, ax=axes[i])\n",
    "    axes[i].set_title(cols)\n",
    "    axes[i].tick_params(axis='x', rotation=90)\n",
    "\n",
    "for j in range(i + 1, len(axes)):\n",
    "    fig.delaxes(axes[j])\n",
    "\n",
    "plt.tight_layout()\n",
    "plt.show()\n"
   ]
  },
  {
   "cell_type": "code",
   "execution_count": null,
   "metadata": {},
   "outputs": [],
   "source": [
    "print(X_train.dtypes)\n",
    "print(X_test.dtypes)\n",
    "\n",
    "print(X_train.shape)\n",
    "print(X_test.shape)\n"
   ]
  },
  {
   "cell_type": "markdown",
   "metadata": {},
   "source": [
    "# Modeling"
   ]
  },
  {
   "cell_type": "code",
   "execution_count": null,
   "metadata": {},
   "outputs": [],
   "source": [
    "%pip install xgboost"
   ]
  },
  {
   "cell_type": "code",
   "execution_count": 40,
   "metadata": {},
   "outputs": [],
   "source": [
    "from xgboost import XGBRegressor\n",
    "from sklearn.model_selection import cross_val_score,KFold\n",
    "from sklearn.metrics import mean_squared_error"
   ]
  },
  {
   "cell_type": "code",
   "execution_count": null,
   "metadata": {},
   "outputs": [],
   "source": [
    "RMV = [\"ID\",\"efs\",\"efs_time\",\"y\"]\n",
    "FEATURES = [c for c in train.columns if not c in RMV]\n",
    "print(f\"There are {len(FEATURES)} FEATURES: {FEATURES}\")"
   ]
  },
  {
   "cell_type": "code",
   "execution_count": 41,
   "metadata": {},
   "outputs": [],
   "source": [
    "num_folds = 10\n",
    "k_folds = KFold(n_splits=num_folds, shuffle=True, random_state=random_seed)\n",
    "\n",
    "oof_xgb = np.zeros(len(train))\n",
    "pred_xgb = np.zeros(len(test))"
   ]
  },
  {
   "cell_type": "code",
   "execution_count": 42,
   "metadata": {},
   "outputs": [
    {
     "name": "stdout",
     "output_type": "stream",
     "text": [
      "----------\n",
      "-- Fold 1\n",
      "-------------------------\n",
      "[0]\tvalidation_0-rmse:0.17904\n"
     ]
    },
    {
     "name": "stderr",
     "output_type": "stream",
     "text": [
      "/Users/christang/opt/anaconda3/lib/python3.9/site-packages/xgboost/core.py:158: UserWarning: [18:46:16] WARNING: /Users/runner/work/xgboost/xgboost/src/context.cc:196: XGBoost is not compiled with CUDA support.\n",
      "  warnings.warn(smsg, UserWarning)\n"
     ]
    },
    {
     "name": "stdout",
     "output_type": "stream",
     "text": [
      "[500]\tvalidation_0-rmse:0.16060\n",
      "[1000]\tvalidation_0-rmse:0.15833\n",
      "[1500]\tvalidation_0-rmse:0.15746\n",
      "[1999]\tvalidation_0-rmse:0.15702\n",
      "----------\n",
      "-- Fold 2\n",
      "-------------------------\n",
      "[0]\tvalidation_0-rmse:0.17649\n"
     ]
    },
    {
     "name": "stderr",
     "output_type": "stream",
     "text": [
      "/Users/christang/opt/anaconda3/lib/python3.9/site-packages/xgboost/core.py:158: UserWarning: [18:46:22] WARNING: /Users/runner/work/xgboost/xgboost/src/context.cc:196: XGBoost is not compiled with CUDA support.\n",
      "  warnings.warn(smsg, UserWarning)\n"
     ]
    },
    {
     "name": "stdout",
     "output_type": "stream",
     "text": [
      "[500]\tvalidation_0-rmse:0.15885\n",
      "[1000]\tvalidation_0-rmse:0.15718\n",
      "[1500]\tvalidation_0-rmse:0.15641\n",
      "[1999]\tvalidation_0-rmse:0.15604\n",
      "----------\n",
      "-- Fold 3\n",
      "-------------------------\n",
      "[0]\tvalidation_0-rmse:0.17719\n"
     ]
    },
    {
     "name": "stderr",
     "output_type": "stream",
     "text": [
      "/Users/christang/opt/anaconda3/lib/python3.9/site-packages/xgboost/core.py:158: UserWarning: [18:46:28] WARNING: /Users/runner/work/xgboost/xgboost/src/context.cc:196: XGBoost is not compiled with CUDA support.\n",
      "  warnings.warn(smsg, UserWarning)\n"
     ]
    },
    {
     "name": "stdout",
     "output_type": "stream",
     "text": [
      "[500]\tvalidation_0-rmse:0.16017\n",
      "[1000]\tvalidation_0-rmse:0.15845\n",
      "[1500]\tvalidation_0-rmse:0.15786\n",
      "[1999]\tvalidation_0-rmse:0.15760\n",
      "----------\n",
      "-- Fold 4\n",
      "-------------------------\n",
      "[0]\tvalidation_0-rmse:0.17345\n"
     ]
    },
    {
     "name": "stderr",
     "output_type": "stream",
     "text": [
      "/Users/christang/opt/anaconda3/lib/python3.9/site-packages/xgboost/core.py:158: UserWarning: [18:46:34] WARNING: /Users/runner/work/xgboost/xgboost/src/context.cc:196: XGBoost is not compiled with CUDA support.\n",
      "  warnings.warn(smsg, UserWarning)\n"
     ]
    },
    {
     "name": "stdout",
     "output_type": "stream",
     "text": [
      "[500]\tvalidation_0-rmse:0.15472\n",
      "[1000]\tvalidation_0-rmse:0.15285\n",
      "[1500]\tvalidation_0-rmse:0.15200\n",
      "[1999]\tvalidation_0-rmse:0.15165\n",
      "----------\n",
      "-- Fold 5\n",
      "-------------------------\n",
      "[0]\tvalidation_0-rmse:0.17552\n"
     ]
    },
    {
     "name": "stderr",
     "output_type": "stream",
     "text": [
      "/Users/christang/opt/anaconda3/lib/python3.9/site-packages/xgboost/core.py:158: UserWarning: [18:46:41] WARNING: /Users/runner/work/xgboost/xgboost/src/context.cc:196: XGBoost is not compiled with CUDA support.\n",
      "  warnings.warn(smsg, UserWarning)\n"
     ]
    },
    {
     "name": "stdout",
     "output_type": "stream",
     "text": [
      "[500]\tvalidation_0-rmse:0.15711\n",
      "[1000]\tvalidation_0-rmse:0.15538\n",
      "[1500]\tvalidation_0-rmse:0.15449\n",
      "[1999]\tvalidation_0-rmse:0.15412\n",
      "----------\n",
      "-- Fold 6\n",
      "-------------------------\n",
      "[0]\tvalidation_0-rmse:0.17437\n"
     ]
    },
    {
     "name": "stderr",
     "output_type": "stream",
     "text": [
      "/Users/christang/opt/anaconda3/lib/python3.9/site-packages/xgboost/core.py:158: UserWarning: [18:46:47] WARNING: /Users/runner/work/xgboost/xgboost/src/context.cc:196: XGBoost is not compiled with CUDA support.\n",
      "  warnings.warn(smsg, UserWarning)\n"
     ]
    },
    {
     "name": "stdout",
     "output_type": "stream",
     "text": [
      "[500]\tvalidation_0-rmse:0.15682\n",
      "[1000]\tvalidation_0-rmse:0.15495\n",
      "[1500]\tvalidation_0-rmse:0.15420\n",
      "[1999]\tvalidation_0-rmse:0.15392\n",
      "----------\n",
      "-- Fold 7\n",
      "-------------------------\n",
      "[0]\tvalidation_0-rmse:0.17663\n"
     ]
    },
    {
     "name": "stderr",
     "output_type": "stream",
     "text": [
      "/Users/christang/opt/anaconda3/lib/python3.9/site-packages/xgboost/core.py:158: UserWarning: [18:46:54] WARNING: /Users/runner/work/xgboost/xgboost/src/context.cc:196: XGBoost is not compiled with CUDA support.\n",
      "  warnings.warn(smsg, UserWarning)\n"
     ]
    },
    {
     "name": "stdout",
     "output_type": "stream",
     "text": [
      "[500]\tvalidation_0-rmse:0.15902\n",
      "[1000]\tvalidation_0-rmse:0.15731\n",
      "[1500]\tvalidation_0-rmse:0.15677\n",
      "[1999]\tvalidation_0-rmse:0.15642\n",
      "----------\n",
      "-- Fold 8\n",
      "-------------------------\n",
      "[0]\tvalidation_0-rmse:0.17840\n"
     ]
    },
    {
     "name": "stderr",
     "output_type": "stream",
     "text": [
      "/Users/christang/opt/anaconda3/lib/python3.9/site-packages/xgboost/core.py:158: UserWarning: [18:47:00] WARNING: /Users/runner/work/xgboost/xgboost/src/context.cc:196: XGBoost is not compiled with CUDA support.\n",
      "  warnings.warn(smsg, UserWarning)\n"
     ]
    },
    {
     "name": "stdout",
     "output_type": "stream",
     "text": [
      "[500]\tvalidation_0-rmse:0.16111\n",
      "[1000]\tvalidation_0-rmse:0.15922\n",
      "[1500]\tvalidation_0-rmse:0.15844\n",
      "[1999]\tvalidation_0-rmse:0.15809\n",
      "----------\n",
      "-- Fold 9\n",
      "-------------------------\n",
      "[0]\tvalidation_0-rmse:0.17648\n"
     ]
    },
    {
     "name": "stderr",
     "output_type": "stream",
     "text": [
      "/Users/christang/opt/anaconda3/lib/python3.9/site-packages/xgboost/core.py:158: UserWarning: [18:47:07] WARNING: /Users/runner/work/xgboost/xgboost/src/context.cc:196: XGBoost is not compiled with CUDA support.\n",
      "  warnings.warn(smsg, UserWarning)\n"
     ]
    },
    {
     "name": "stdout",
     "output_type": "stream",
     "text": [
      "[500]\tvalidation_0-rmse:0.15975\n",
      "[1000]\tvalidation_0-rmse:0.15791\n",
      "[1500]\tvalidation_0-rmse:0.15719\n",
      "[1999]\tvalidation_0-rmse:0.15687\n",
      "----------\n",
      "-- Fold 10\n",
      "-------------------------\n",
      "[0]\tvalidation_0-rmse:0.17605\n"
     ]
    },
    {
     "name": "stderr",
     "output_type": "stream",
     "text": [
      "/Users/christang/opt/anaconda3/lib/python3.9/site-packages/xgboost/core.py:158: UserWarning: [18:47:13] WARNING: /Users/runner/work/xgboost/xgboost/src/context.cc:196: XGBoost is not compiled with CUDA support.\n",
      "  warnings.warn(smsg, UserWarning)\n"
     ]
    },
    {
     "name": "stdout",
     "output_type": "stream",
     "text": [
      "[500]\tvalidation_0-rmse:0.16024\n",
      "[1000]\tvalidation_0-rmse:0.15898\n",
      "[1500]\tvalidation_0-rmse:0.15850\n",
      "[1999]\tvalidation_0-rmse:0.15824\n"
     ]
    }
   ],
   "source": [
    "for i, (train_i,test_i) in enumerate(k_folds.split(train)):\n",
    "    print(\"-\"*10)\n",
    "    print(f\"-- Fold {i+1}\")\n",
    "    print(\"-\"*25)\n",
    "    \n",
    "    x_train = train.loc[train_i,FEATURES].copy()\n",
    "    y_train = train.loc[train_i,\"y\"]\n",
    "    x_valid = train.loc[test_i,FEATURES].copy()\n",
    "    y_valid = train.loc[test_i,\"y\"]\n",
    "    x_test = test[FEATURES].copy()\n",
    "\n",
    "    model_xgb = XGBRegressor(\n",
    "        device=\"cuda\",\n",
    "        max_depth=3,  \n",
    "        colsample_bytree=0.5,  \n",
    "        subsample=0.8,  \n",
    "        n_estimators=2000,  \n",
    "        learning_rate=0.02,  \n",
    "        enable_categorical=True,\n",
    "        min_child_weight=80,\n",
    "    )\n",
    "    model_xgb.fit(\n",
    "        x_train, y_train,\n",
    "        eval_set=[(x_valid, y_valid)],  \n",
    "        verbose=500 \n",
    "    )\n",
    "    oof_xgb[test_i] = model_xgb.predict(x_valid)\n",
    "    pred_xgb += model_xgb.predict(x_test) / num_folds\n",
    "\n",
    "pred_xgb /= num_folds"
   ]
  },
  {
   "cell_type": "code",
   "execution_count": null,
   "metadata": {},
   "outputs": [],
   "source": [
    "train.insert(0, 'ID', range(1, len(train) + 1))"
   ]
  },
  {
   "cell_type": "code",
   "execution_count": 46,
   "metadata": {},
   "outputs": [
    {
     "name": "stderr",
     "output_type": "stream",
     "text": [
      "/Users/christang/Desktop/kaggle/Scripts/metric.py:53: FutureWarning: The default of observed=False is deprecated and will be changed to True in a future version of pandas. Pass observed=False to retain current behavior or observed=True to adopt the future default and silence this warning.\n",
      "  merged_df_race_dict = dict(merged_df.groupby(['race_group']).groups)\n"
     ]
    },
    {
     "name": "stdout",
     "output_type": "stream",
     "text": [
      "\n",
      "Overall CV for XGBoost KaplanMeier = 0.6723\n"
     ]
    }
   ],
   "source": [
    "y_true = train[[\"ID\",\"efs\",\"efs_time\",\"race_group\"]].copy()\n",
    "y_pred = train[[\"ID\"]].copy()\n",
    "y_pred[\"prediction\"] = oof_xgb\n",
    "m = sc(y_true.copy(), y_pred.copy(), \"ID\")\n",
    "print(f\"\\nOverall CV for XGBoost KaplanMeier =\",round(m,4))\n"
   ]
  },
  {
   "cell_type": "code",
   "execution_count": 47,
   "metadata": {},
   "outputs": [
    {
     "data": {
      "image/png": "[encoded data removed]",
      "text/plain": [
       "<Figure size 1000x1500 with 1 Axes>"
      ]
     },
     "metadata": {},
     "output_type": "display_data"
    }
   ],
   "source": [
    "feature_importance = model_xgb.feature_importances_\n",
    "importance_df = pd.DataFrame({\n",
    "    \"Feature\": FEATURES,  # Replace FEATURES with your list of feature names\n",
    "    \"Importance\": feature_importance\n",
    "}).sort_values(by=\"Importance\", ascending=False)\n",
    "plt.figure(figsize=(10, 15))\n",
    "plt.barh(importance_df[\"Feature\"], importance_df[\"Importance\"])\n",
    "plt.xlabel(\"Importance\")\n",
    "plt.ylabel(\"Feature\")\n",
    "plt.title(\"XGBoost KaplanMeier Feature Importance\")\n",
    "plt.gca().invert_yaxis()  \n",
    "plt.show()"
   ]
  },
  {
   "cell_type": "code",
   "execution_count": null,
   "metadata": {},
   "outputs": [],
   "source": []
  }
 ],
 "metadata": {
  "kernelspec": {
   "display_name": "Python 3 (ipykernel)",
   "language": "python",
   "name": "python3"
  },
  "language_info": {
   "codemirror_mode": {
    "name": "ipython",
    "version": 3
   },
   "file_extension": ".py",
   "mimetype": "text/x-python",
   "name": "python",
   "nbconvert_exporter": "python",
   "pygments_lexer": "ipython3",
   "version": "3.9.13"
  }
 },
 "nbformat": 4,
 "nbformat_minor": 2
}
