{
 "cells": [
  {
   "cell_type": "code",
   "execution_count": null,
   "metadata": {},
   "outputs": [],
   "source": [
    "!pip install ../input/pip-install-lifelines/autograd-1.7.0-py3-none-any.whl\n",
    "!pip install ../input/pip-install-lifelines/autograd-gamma-0.5.0.tar.gz\n",
    "!pip install ../input/pip-install-lifelines/interface_meta-1.3.0-py3-none-any.whl\n",
    "!pip install ../input/pip-install-lifelines/formulaic-1.0.2-py3-none-any.whl\n",
    "!pip install ../input/pip-install-lifelines/lifelines-0.30.0-py3-none-any.whl\n"
   ]
  },
  {
   "cell_type": "code",
   "execution_count": null,
   "metadata": {},
   "outputs": [],
   "source": [
    "pip install git+https://github.com/ResidentMario/missingno.git"
   ]
  },
  {
   "cell_type": "code",
   "execution_count": 1,
   "metadata": {},
   "outputs": [
    {
     "name": "stderr",
     "output_type": "stream",
     "text": [
      "/Users/christang/opt/anaconda3/lib/python3.9/site-packages/pandas/core/computation/expressions.py:21: UserWarning: Pandas requires version '2.8.4' or newer of 'numexpr' (version '2.8.3' currently installed).\n",
      "  from pandas.core.computation.check import NUMEXPR_INSTALLED\n",
      "/Users/christang/opt/anaconda3/lib/python3.9/site-packages/pandas/core/arrays/masked.py:60: UserWarning: Pandas requires version '1.3.6' or newer of 'bottleneck' (version '1.3.5' currently installed).\n",
      "  from pandas.core import (\n"
     ]
    }
   ],
   "source": [
    "import pandas as pd\n",
    "import numpy as np\n",
    "import os"
   ]
  },
  {
   "cell_type": "code",
   "execution_count": 2,
   "metadata": {},
   "outputs": [],
   "source": [
    "import matplotlib.pyplot as plt\n",
    "import seaborn as sns\n",
    "import missingno as msno"
   ]
  },
  {
   "cell_type": "code",
   "execution_count": 3,
   "metadata": {},
   "outputs": [],
   "source": [
    "from sklearn.impute import KNNImputer\n",
    "from sklearn.experimental import enable_iterative_imputer \n",
    "from sklearn.impute import IterativeImputer \n",
    "from sklearn.model_selection import train_test_split"
   ]
  },
  {
   "cell_type": "code",
   "execution_count": 4,
   "metadata": {},
   "outputs": [],
   "source": [
    "import myutils.preprocessing as pp \n",
    "import myutils.visualization as vz\n",
    "from metric import score as sc\n",
    "%load_ext autoreload\n",
    "%autoreload 2"
   ]
  },
  {
   "cell_type": "code",
   "execution_count": 5,
   "metadata": {},
   "outputs": [],
   "source": [
    "from lifelines import KaplanMeierFitter"
   ]
  },
  {
   "cell_type": "code",
   "execution_count": 6,
   "metadata": {},
   "outputs": [],
   "source": [
    "def read_data(data_dir,fileNames):\n",
    "    path = os.path.join(data_dir,fileNames)\n",
    "    df = pd.read_csv(path)\n",
    "    return df"
   ]
  },
  {
   "cell_type": "code",
   "execution_count": 22,
   "metadata": {},
   "outputs": [],
   "source": [
    "data_dir = '../input/data'\n",
    "output_dir = '../output'\n",
    "\n",
    "fName1 = 'train.csv'\n",
    "fName2 = 'test.csv'\n",
    "fName3 = 'data_dictionary.csv'\n",
    "\n",
    "trainData = read_data(data_dir,fName1)\n",
    "testData = read_data(data_dir,fName2)\n",
    "dataDict = read_data(data_dir,fName3)\n",
    "\n",
    "random_seed = 202501"
   ]
  },
  {
   "cell_type": "markdown",
   "metadata": {},
   "source": [
    "# Data Understanding and Inspection"
   ]
  },
  {
   "cell_type": "code",
   "execution_count": null,
   "metadata": {},
   "outputs": [],
   "source": [
    "print(trainData.head(5))"
   ]
  },
  {
   "cell_type": "code",
   "execution_count": null,
   "metadata": {},
   "outputs": [],
   "source": [
    "print(\"Size of the df:\",trainData.shape, \"\\nColumn Names:\\n\", trainData.columns)"
   ]
  },
  {
   "cell_type": "code",
   "execution_count": null,
   "metadata": {},
   "outputs": [],
   "source": [
    "print(\"Size of the df:\",testData.shape, \"\\nColumn Names:\\n\", testData.columns)"
   ]
  },
  {
   "cell_type": "code",
   "execution_count": null,
   "metadata": {},
   "outputs": [],
   "source": [
    "print(trainData.info())"
   ]
  },
  {
   "cell_type": "code",
   "execution_count": null,
   "metadata": {},
   "outputs": [],
   "source": [
    "vz.scatter_plot(trainData,'efs_time','efs')"
   ]
  },
  {
   "cell_type": "code",
   "execution_count": 20,
   "metadata": {},
   "outputs": [
    {
     "name": "stdout",
     "output_type": "stream",
     "text": [
      "tce_match                 18996\n",
      "mrd_hct                   16597\n",
      "cyto_score_detail         11923\n",
      "tce_div_match             11396\n",
      "tce_imm_match             11133\n",
      "cyto_score                 8068\n",
      "hla_high_res_10            7163\n",
      "hla_high_res_8             5829\n",
      "hla_high_res_6             5284\n",
      "hla_match_dqb1_high        5199\n",
      "hla_low_res_10             5064\n",
      "conditioning_intensity     4789\n",
      "hla_match_c_high           4620\n",
      "hla_match_a_high           4301\n",
      "hla_nmdp_6                 4197\n",
      "hla_match_dqb1_low         4194\n",
      "hla_match_b_high           4088\n",
      "hla_low_res_8              3653\n",
      "hla_match_drb1_high        3352\n",
      "hla_low_res_6              3270\n",
      "hla_match_c_low            2800\n",
      "hla_match_drb1_low         2643\n",
      "hla_match_b_low            2565\n",
      "cardiac                    2542\n",
      "peptic_ulcer               2419\n",
      "hla_match_a_low            2390\n",
      "arrhythmia                 2202\n",
      "rheum_issue                2183\n",
      "rituximab                  2148\n",
      "pulm_severe                2135\n",
      "diabetes                   2119\n",
      "psych_disturb              2062\n",
      "pulm_moderate              2047\n",
      "hepatic_mild               1917\n",
      "renal_issue                1915\n",
      "hepatic_severe             1871\n",
      "donor_age                  1808\n",
      "obesity                    1760\n",
      "prior_tumor                1678\n",
      "melphalan_dose             1405\n",
      "karnofsky_score             870\n",
      "cmv_status                  634\n",
      "ethnicity                   587\n",
      "comorbidity_score           477\n",
      "sex_match                   261\n",
      "vent_hist                   259\n",
      "in_vivo_tcd                 225\n",
      "gvhd_proph                  225\n",
      "donor_related               158\n",
      "dri_score                   154\n",
      "efs                           0\n",
      "ID                            0\n",
      "race_group                    0\n",
      "age_at_hct                    0\n",
      "year_hct                      0\n",
      "prod_type                     0\n",
      "prim_disease_hct              0\n",
      "graft_type                    0\n",
      "tbi_status                    0\n",
      "efs_time                      0\n",
      "dtype: int64\n"
     ]
    }
   ],
   "source": [
    "#inspecting missing values for the training set\n",
    "print(trainData.isnull().sum().sort_values(ascending=False))"
   ]
  },
  {
   "cell_type": "code",
   "execution_count": 9,
   "metadata": {},
   "outputs": [
    {
     "name": "stdout",
     "output_type": "stream",
     "text": [
      "cyto_score_detail         2\n",
      "conditioning_intensity    2\n",
      "mrd_hct                   2\n",
      "cyto_score                2\n",
      "tce_match                 2\n",
      "donor_age                 2\n",
      "hla_high_res_10           1\n",
      "tce_div_match             1\n",
      "tce_imm_match             1\n",
      "hla_high_res_8            1\n",
      "hla_match_c_high          1\n",
      "prior_tumor               0\n",
      "rheum_issue               0\n",
      "hla_match_b_low           0\n",
      "peptic_ulcer              0\n",
      "age_at_hct                0\n",
      "hla_match_a_low           0\n",
      "hepatic_severe            0\n",
      "gvhd_proph                0\n",
      "ID                        0\n",
      "hla_match_b_high          0\n",
      "sex_match                 0\n",
      "race_group                0\n",
      "comorbidity_score         0\n",
      "karnofsky_score           0\n",
      "hepatic_mild              0\n",
      "donor_related             0\n",
      "melphalan_dose            0\n",
      "hla_low_res_8             0\n",
      "cardiac                   0\n",
      "hla_match_drb1_high       0\n",
      "pulm_moderate             0\n",
      "hla_match_a_high          0\n",
      "year_hct                  0\n",
      "in_vivo_tcd               0\n",
      "obesity                   0\n",
      "psych_disturb             0\n",
      "diabetes                  0\n",
      "tbi_status                0\n",
      "arrhythmia                0\n",
      "hla_low_res_6             0\n",
      "graft_type                0\n",
      "vent_hist                 0\n",
      "renal_issue               0\n",
      "pulm_severe               0\n",
      "prim_disease_hct          0\n",
      "hla_high_res_6            0\n",
      "cmv_status                0\n",
      "hla_match_dqb1_high       0\n",
      "hla_nmdp_6                0\n",
      "hla_match_c_low           0\n",
      "rituximab                 0\n",
      "hla_match_drb1_low        0\n",
      "hla_match_dqb1_low        0\n",
      "prod_type                 0\n",
      "ethnicity                 0\n",
      "dri_score                 0\n",
      "hla_low_res_10            0\n",
      "dtype: int64\n"
     ]
    }
   ],
   "source": [
    "#inspecting missing values for the test set\n",
    "print(testData.isnull().sum().sort_values(ascending=False))"
   ]
  },
  {
   "cell_type": "code",
   "execution_count": 10,
   "metadata": {},
   "outputs": [
    {
     "data": {
      "image/png": "[encoded data removed]",
      "text/plain": [
       "<Figure size 2500x1000 with 2 Axes>"
      ]
     },
     "metadata": {},
     "output_type": "display_data"
    },
    {
     "data": {
      "image/png": "[encoded data removed]",
      "text/plain": [
       "<Figure size 2500x1000 with 2 Axes>"
      ]
     },
     "metadata": {},
     "output_type": "display_data"
    }
   ],
   "source": [
    "#plot the missing values heatmap\n",
    "vz.plot_missing_values(trainData)\n",
    "vz.plot_missing_values(testData)"
   ]
  },
  {
   "cell_type": "markdown",
   "metadata": {},
   "source": [
    "Due to the large number of missing values and unclearness of the patterns in the values that are missing, regular imputation methods will not be considered to use as the training accuracy could be severly impaired."
   ]
  },
  {
   "cell_type": "code",
   "execution_count": null,
   "metadata": {},
   "outputs": [],
   "source": [
    "#Understanding the missing values\n",
    "\n",
    "\n",
    "#missing_values = pp.missing_val_df(trainData)\n",
    "#missing_values = missing_values.merge(dataDict[['variable', 'description']], left_on='variables', right_on='variable', how='left')\n",
    "#missing_values.drop(columns=['variable'], inplace=True)\n",
    "#missing_values.rename(columns={'description': 'Variable Description'}, inplace=True)\n",
    "\n",
    "#missing_values"
   ]
  },
  {
   "cell_type": "code",
   "execution_count": 11,
   "metadata": {},
   "outputs": [],
   "source": [
    "# Detect duplicate rows\n",
    "#duplicate_rows = trainData[trainData.duplicated()]\n",
    "# Show duplicate rows\n",
    "#print(duplicate_rows)"
   ]
  },
  {
   "cell_type": "markdown",
   "metadata": {},
   "source": [
    "No duplicated observations is discovered in the dataset"
   ]
  },
  {
   "cell_type": "markdown",
   "metadata": {},
   "source": [
    "# Data Preprocessing"
   ]
  },
  {
   "cell_type": "code",
   "execution_count": 16,
   "metadata": {},
   "outputs": [],
   "source": [
    "from sklearn.compose import ColumnTransformer\n",
    "from sklearn.pipeline import Pipeline\n",
    "from sklearn.impute import KNNImputer, SimpleImputer\n",
    "from sklearn.preprocessing import StandardScaler, LabelEncoder, OrdinalEncoder"
   ]
  },
  {
   "cell_type": "code",
   "execution_count": 25,
   "metadata": {},
   "outputs": [
    {
     "name": "stdout",
     "output_type": "stream",
     "text": [
      "X_train shape: (28800, 57)\n",
      "y_train shape: (28800, 2)\n",
      "X_test shape: (3, 57)\n"
     ]
    }
   ],
   "source": [
    "def prepare_data(trainData, testData, target_cols, id_col='ID'):\n",
    "    feature_cols = [col for col in trainData.columns if col not in target_cols + [id_col]]\n",
    "\n",
    "    X_train = trainData[feature_cols]\n",
    "    y_train = trainData[target_cols]\n",
    "    X_test = testData[feature_cols]\n",
    "    return X_train, y_train, X_test\n",
    "\n",
    "\n",
    "target_cols = ['efs', 'efs_time']\n",
    "\n",
    "X_train, y_train, X_test = prepare_data(trainData, testData,target_cols)\n",
    "\n",
    "# Display the shapes of the resulting datasets\n",
    "print(f\"X_train shape: {X_train.shape}\")\n",
    "print(f\"y_train shape: {y_train.shape}\")\n",
    "print(f\"X_test shape: {X_test.shape}\")\n"
   ]
  },
  {
   "cell_type": "code",
   "execution_count": 17,
   "metadata": {},
   "outputs": [],
   "source": [
    "def transform_suv_prob(df, time = 'efs_time', event = 'efs'):\n",
    "    kmf = KaplanMeierFitter()\n",
    "    kmf.fit(df[time], event_observed=df[event])\n",
    "    survivals_prob = kmf.survival_function_at_times(df[time]).values\n",
    "    return survivals_prob\n",
    "\n",
    "def preprocess_data (X_train,y_train,X_test,num_cols,cat_cols,event_col = 'efs',time_col = 'efs_time'):\n",
    "    X_train_copy =  X_train.copy()\n",
    "    y_train_copy = y_train.copy()\n",
    "\n",
    "    training_data = pd.concat([X_train_copy,y_train_copy],axis=1)\n",
    "    training_data['y'] = transform_suv_prob(training_data,time_col,event_col)\n",
    "\n",
    "    num_pp = Pipeline([\n",
    "        ('Imputer',SimpleImputer(strategy='median')),\n",
    "        ('scaler',StandardScaler()),\n",
    "    ])\n",
    "\n",
    "    cat_pp = Pipeline([\n",
    "        ('imputer',SimpleImputer(strategy='constant',fill_value='UNKNOWN')),\n",
    "        ('encoder',OrdinalEncoder(handle_unknown='use_encoded_value', unknown_value=-1)),\n",
    "    ])\n",
    "\n",
    "    preprocessor = ColumnTransformer(\n",
    "        transformers=\n",
    "        [\n",
    "            ('num',num_pp,num_cols),\n",
    "            ('cat',cat_pp,cat_cols)\n",
    "        ]\n",
    "    )\n",
    "\n",
    "    X_train_processed = preprocessor.fit_transform(X_train_copy)\n",
    "    X_test_processed = preprocessor.transform(X_test)\n",
    "\n",
    "    return X_train_processed,X_test_processed,preprocessor\n",
    "\n",
    "\n",
    "    \n"
   ]
  },
  {
   "cell_type": "code",
   "execution_count": 26,
   "metadata": {},
   "outputs": [
    {
     "name": "stdout",
     "output_type": "stream",
     "text": [
      "Processed Training Data Shape: (28800, 57)\n",
      "Processed Test Data Shape: (3, 57)\n"
     ]
    }
   ],
   "source": [
    "# Define columns\n",
    "num_cols = pp.numeric_df(X_train).columns.tolist()  # Numerical columns\n",
    "cat_cols = pp.get_cat_cols(X_train)                # Categorical columns\n",
    "\n",
    "# Apply preprocessing\n",
    "X_train_processed, X_test_processed, preprocessor = preprocess_data(\n",
    "    X_train, y_train, X_test, num_cols, cat_cols, time_col='efs_time', event_col='efs'\n",
    ")\n",
    "\n",
    "print(f\"Processed Training Data Shape: {X_train_processed.shape}\")\n",
    "print(f\"Processed Test Data Shape: {X_test_processed.shape}\")\n"
   ]
  },
  {
   "cell_type": "code",
   "execution_count": null,
   "metadata": {},
   "outputs": [],
   "source": []
  },
  {
   "cell_type": "code",
   "execution_count": null,
   "metadata": {},
   "outputs": [],
   "source": [
    "NUM_COLS = pp.get_num_cols(trainData)\n",
    "CAT_COLS = pp.get_cat_cols(trainData)"
   ]
  },
  {
   "cell_type": "code",
   "execution_count": null,
   "metadata": {},
   "outputs": [],
   "source": [
    "#We will perform data preprocessing on the numerical variables and categorical variables separately.\n",
    "\n",
    "X_train_num = pp.numeric_df(X_train)\n",
    "X_test_num = pp.numeric_df(X_test)\n",
    "\n",
    "cat_colsTrain = pp.get_cat_cols(X_train)\n",
    "X_train_cat = X_train[cat_colsTrain]\n",
    "\n",
    "cat_colsTest = pp.get_cat_cols(X_test)\n",
    "X_test_cat = X_test[cat_colsTest]\n",
    "\n"
   ]
  },
  {
   "cell_type": "code",
   "execution_count": null,
   "metadata": {},
   "outputs": [],
   "source": [
    "#Plot the correlation heatmap between numerical variables to check for multicollinearity, \n",
    "#before we decide on which imputation method to use.\n",
    "vz.cor_heatmap(X_train_num)"
   ]
  },
  {
   "cell_type": "markdown",
   "metadata": {},
   "source": [
    "As we can see, the variables that starts with \"hla\" seems to be highly correlated with on another, while the other variables do not exhibited clear correlation.\n",
    "Therefore, we decided to employ KNN (similarity based) imputer on all the variables that start with \"hla\" and Iterative imputer for the rest of the variables."
   ]
  },
  {
   "cell_type": "code",
   "execution_count": null,
   "metadata": {},
   "outputs": [],
   "source": [
    "import math\n",
    "n_cols = 2\n",
    "n_plots = len(X_train_cat.columns)\n",
    "n_rows = math.ceil(n_plots / n_cols)\n",
    "fig, axes = plt.subplots(n_rows, n_cols, figsize=(15, 6 * n_rows))\n",
    "axes = axes.flatten()\n",
    "\n",
    "for i, cols in enumerate(X_train_cat.columns):\n",
    "    sns.countplot(data=X_train_cat, x=cols, ax=axes[i])\n",
    "    axes[i].set_title(cols)\n",
    "    axes[i].tick_params(axis='x', rotation=90)\n",
    "\n",
    "for j in range(i + 1, len(axes)):\n",
    "    fig.delaxes(axes[j])\n",
    "\n",
    "plt.tight_layout()\n",
    "plt.show()\n"
   ]
  },
  {
   "cell_type": "code",
   "execution_count": null,
   "metadata": {},
   "outputs": [],
   "source": [
    "import math\n",
    "n_cols = 2\n",
    "n_plots = len(X_test_cat.columns)\n",
    "n_rows = math.ceil(n_plots / n_cols)\n",
    "fig, axes = plt.subplots(n_rows, n_cols, figsize=(15, 6 * n_rows))\n",
    "axes = axes.flatten()\n",
    "\n",
    "for i, cols in enumerate(X_test_cat.columns):\n",
    "    sns.countplot(data=X_test_cat, x=cols, ax=axes[i])\n",
    "    axes[i].set_title(cols)\n",
    "    axes[i].tick_params(axis='x', rotation=90)\n",
    "\n",
    "for j in range(i + 1, len(axes)):\n",
    "    fig.delaxes(axes[j])\n",
    "\n",
    "plt.tight_layout()\n",
    "plt.show()\n"
   ]
  },
  {
   "cell_type": "code",
   "execution_count": null,
   "metadata": {},
   "outputs": [],
   "source": [
    "X_train = pd.concat([X_train_num, X_train_cat], axis=1)\n",
    "X_test = pd.concat([X_test_num, X_test_cat], axis=1)"
   ]
  },
  {
   "cell_type": "code",
   "execution_count": 27,
   "metadata": {},
   "outputs": [
    {
     "name": "stdout",
     "output_type": "stream",
     "text": [
      "dri_score                  object\n",
      "psych_disturb              object\n",
      "cyto_score                 object\n",
      "diabetes                   object\n",
      "hla_match_c_high          float64\n",
      "hla_high_res_8            float64\n",
      "tbi_status                 object\n",
      "arrhythmia                 object\n",
      "hla_low_res_6             float64\n",
      "graft_type                 object\n",
      "vent_hist                  object\n",
      "renal_issue                object\n",
      "pulm_severe                object\n",
      "prim_disease_hct           object\n",
      "hla_high_res_6            float64\n",
      "cmv_status                 object\n",
      "hla_high_res_10           float64\n",
      "hla_match_dqb1_high       float64\n",
      "tce_imm_match              object\n",
      "hla_nmdp_6                float64\n",
      "hla_match_c_low           float64\n",
      "rituximab                  object\n",
      "hla_match_drb1_low        float64\n",
      "hla_match_dqb1_low        float64\n",
      "prod_type                  object\n",
      "cyto_score_detail          object\n",
      "conditioning_intensity     object\n",
      "ethnicity                  object\n",
      "year_hct                    int64\n",
      "obesity                    object\n",
      "mrd_hct                    object\n",
      "in_vivo_tcd                object\n",
      "tce_match                  object\n",
      "hla_match_a_high          float64\n",
      "hepatic_severe             object\n",
      "donor_age                 float64\n",
      "prior_tumor                object\n",
      "hla_match_b_low           float64\n",
      "peptic_ulcer               object\n",
      "age_at_hct                float64\n",
      "hla_match_a_low           float64\n",
      "gvhd_proph                 object\n",
      "rheum_issue                object\n",
      "sex_match                  object\n",
      "hla_match_b_high          float64\n",
      "race_group                 object\n",
      "comorbidity_score         float64\n",
      "karnofsky_score           float64\n",
      "hepatic_mild               object\n",
      "tce_div_match              object\n",
      "donor_related              object\n",
      "melphalan_dose             object\n",
      "hla_low_res_8             float64\n",
      "cardiac                    object\n",
      "hla_match_drb1_high       float64\n",
      "pulm_moderate              object\n",
      "hla_low_res_10            float64\n",
      "dtype: object\n",
      "dri_score                  object\n",
      "psych_disturb              object\n",
      "cyto_score                 object\n",
      "diabetes                   object\n",
      "hla_match_c_high          float64\n",
      "hla_high_res_8            float64\n",
      "tbi_status                 object\n",
      "arrhythmia                 object\n",
      "hla_low_res_6             float64\n",
      "graft_type                 object\n",
      "vent_hist                  object\n",
      "renal_issue                object\n",
      "pulm_severe                object\n",
      "prim_disease_hct           object\n",
      "hla_high_res_6            float64\n",
      "cmv_status                 object\n",
      "hla_high_res_10           float64\n",
      "hla_match_dqb1_high       float64\n",
      "tce_imm_match              object\n",
      "hla_nmdp_6                float64\n",
      "hla_match_c_low           float64\n",
      "rituximab                  object\n",
      "hla_match_drb1_low        float64\n",
      "hla_match_dqb1_low        float64\n",
      "prod_type                  object\n",
      "cyto_score_detail          object\n",
      "conditioning_intensity     object\n",
      "ethnicity                  object\n",
      "year_hct                    int64\n",
      "obesity                    object\n",
      "mrd_hct                    object\n",
      "in_vivo_tcd                object\n",
      "tce_match                  object\n",
      "hla_match_a_high          float64\n",
      "hepatic_severe             object\n",
      "donor_age                 float64\n",
      "prior_tumor                object\n",
      "hla_match_b_low           float64\n",
      "peptic_ulcer               object\n",
      "age_at_hct                float64\n",
      "hla_match_a_low           float64\n",
      "gvhd_proph                 object\n",
      "rheum_issue                object\n",
      "sex_match                  object\n",
      "hla_match_b_high          float64\n",
      "race_group                 object\n",
      "comorbidity_score         float64\n",
      "karnofsky_score           float64\n",
      "hepatic_mild               object\n",
      "tce_div_match              object\n",
      "donor_related              object\n",
      "melphalan_dose             object\n",
      "hla_low_res_8             float64\n",
      "cardiac                    object\n",
      "hla_match_drb1_high       float64\n",
      "pulm_moderate              object\n",
      "hla_low_res_10            float64\n",
      "dtype: object\n",
      "(28800, 57)\n",
      "(3, 57)\n"
     ]
    }
   ],
   "source": [
    "print(X_train.dtypes)\n",
    "print(X_test.dtypes)\n",
    "\n",
    "print(X_train.shape)\n",
    "print(X_test.shape)\n"
   ]
  },
  {
   "cell_type": "markdown",
   "metadata": {},
   "source": [
    "# Modeling"
   ]
  },
  {
   "cell_type": "code",
   "execution_count": null,
   "metadata": {},
   "outputs": [],
   "source": [
    "%pip install xgboost"
   ]
  },
  {
   "cell_type": "code",
   "execution_count": null,
   "metadata": {},
   "outputs": [],
   "source": [
    "from xgboost import XGBRegressor\n",
    "from sklearn.model_selection import cross_val_score,KFold\n",
    "from sklearn.metrics import mean_squared_error\n"
   ]
  },
  {
   "cell_type": "code",
   "execution_count": null,
   "metadata": {},
   "outputs": [],
   "source": []
  },
  {
   "cell_type": "code",
   "execution_count": null,
   "metadata": {},
   "outputs": [],
   "source": [
    "num_folds = 10\n",
    "k_folds = KFold(n_splits=num_folds, shuffle=True, random_state=random_seed)\n",
    "\n",
    "oof_xgb = np.zeros(len(train))\n",
    "pred_xgb = np.zeros(len(test))"
   ]
  },
  {
   "cell_type": "code",
   "execution_count": null,
   "metadata": {},
   "outputs": [],
   "source": [
    "for i, (train_i,test_i) in enumerate(k_folds.split(train)):\n",
    "    print(\"#\"*25)\n",
    "    print(f\"### Fold {i+1}\")\n",
    "    print(\"#\"*25)\n",
    "    \n",
    "    x_train = train.loc[train_i,FEATURES].copy()\n",
    "    y_train = train.loc[train_i,\"suv_prob\"]\n",
    "    x_valid = train.loc[test_i,FEATURES].copy()\n",
    "    y_valid = train.loc[test_i,\"suv_prob\"]\n",
    "    x_test = test[FEATURES].copy()\n",
    "\n",
    "    model_xgb = XGBRegressor(\n",
    "        device=\"cuda\",\n",
    "        max_depth=3,  \n",
    "        colsample_bytree=0.5,  \n",
    "        subsample=0.8,  \n",
    "        n_estimators=2000,  \n",
    "        learning_rate=0.02,  \n",
    "        enable_categorical=True,\n",
    "        min_child_weight=80,\n",
    "    )\n",
    "    model_xgb.fit(\n",
    "        x_train, y_train,\n",
    "        eval_set=[(x_valid, y_valid)],  \n",
    "        verbose=500 \n",
    "    )\n",
    "    oof_xgb[test_i] = model_xgb.predict(x_valid)\n",
    "    pred_xgb += model_xgb.predict(x_test) / num_folds\n",
    "\n",
    "pred_xgb /= num_folds"
   ]
  },
  {
   "cell_type": "code",
   "execution_count": null,
   "metadata": {},
   "outputs": [],
   "source": [
    "y_true = train[[\"ID\",\"efs\",\"efs_time\",\"race_group\"]].copy()\n",
    "y_pred = train[[\"ID\"]].copy()\n",
    "y_pred[\"prediction\"] = oof_xgb\n",
    "m = sc(y_true.copy(), y_pred.copy(), \"ID\")\n",
    "print(f\"\\nCV score of Keplan Meier XGB model =\",m)"
   ]
  },
  {
   "cell_type": "code",
   "execution_count": null,
   "metadata": {},
   "outputs": [],
   "source": [
    "feature_importance = model_xgb.feature_importances_\n",
    "importance_df = pd.DataFrame({\n",
    "    \"Feature\": FEATURES,  # Replace FEATURES with your list of feature names\n",
    "    \"Importance\": feature_importance\n",
    "}).sort_values(by=\"Importance\", ascending=False)\n",
    "plt.figure(figsize=(10, 15))\n",
    "plt.barh(importance_df[\"Feature\"], importance_df[\"Importance\"])\n",
    "plt.xlabel(\"Importance\")\n",
    "plt.ylabel(\"Feature\")\n",
    "plt.title(\"XGBoost KaplanMeier Feature Importance\")\n",
    "plt.gca().invert_yaxis()  \n",
    "plt.show()"
   ]
  },
  {
   "cell_type": "code",
   "execution_count": null,
   "metadata": {},
   "outputs": [],
   "source": []
  }
 ],
 "metadata": {
  "kernelspec": {
   "display_name": "Python 3 (ipykernel)",
   "language": "python",
   "name": "python3"
  },
  "language_info": {
   "codemirror_mode": {
    "name": "ipython",
    "version": 3
   },
   "file_extension": ".py",
   "mimetype": "text/x-python",
   "name": "python",
   "nbconvert_exporter": "python",
   "pygments_lexer": "ipython3",
   "version": "3.9.13"
  }
 },
 "nbformat": 4,
 "nbformat_minor": 2
}
